{
 "cells": [
  {
   "cell_type": "markdown",
   "metadata": {},
   "source": [
    "class CarApp //camel casing \n",
    "\n",
    "list object attribute: dir(AudiCar)\n",
    "\n",
    "True + True + True - False - o/p 3 (1+1+1-0)"
   ]
  },
  {
   "cell_type": "code",
   "execution_count": 7,
   "metadata": {},
   "outputs": [
    {
     "name": "stdout",
     "output_type": "stream",
     "text": [
      "Overwriting carexample.py\n"
     ]
    }
   ],
   "source": [
    "%%writefile carexample.py\n",
    "\n",
    "class CarApp:\n",
    "    '''car applcation for customer'''\n",
    "\n",
    "    def __init__(self,name):\n",
    "        '''Initializing of carapp class'''\n",
    "        print(\"----------Constructor method called----------\") #gets automatically called when oject is created.\n",
    "        self.name = name\n",
    "        print(\"car name: \",name)\n",
    "\n",
    "\n",
    "    def info(self,cname):\n",
    "        '''car info method'''\n",
    "        print(\"----------function method is called here----------\")\n",
    "        self.cname = cname #object/instance variable\n",
    "        print(\"Its a Audi Car\", cname)\n",
    "\n",
    "\n",
    "if __name__ == '__main__': #We can use if __name__ == \"__main__\" block to allow or prevent parts of code from being run when the modules are imported. \n",
    "    Audicar = CarApp(\"Kia\")\n",
    "    #dir(Audicar) - list object attribute\n",
    "    print(\"doc string called from class: \",Audicar.__doc__) #print docstring\n",
    "    Audicar.info(\"Audi\")\n",
    "    print(Audicar.cname)"
   ]
  },
  {
   "cell_type": "code",
   "execution_count": 18,
   "metadata": {},
   "outputs": [
    {
     "name": "stdout",
     "output_type": "stream",
     "text": [
      "----------Constructor method called----------\n",
      "car name:  audi car\n",
      "----------function method is called here----------\n",
      "Its a Audi Car maruti\n",
      "----------deluxcar info method is called here----------\n",
      "Its a Audi Car Audi\n"
     ]
    }
   ],
   "source": [
    "#import carexample as cm\n",
    "from carexample import CarApp\n",
    "\n",
    "class DeluxCar(CarApp):\n",
    "    '''DeluxCar inherited from CarApp'''\n",
    "\n",
    "    def feature(self):\n",
    "        '''Deluxe car feature'''\n",
    "        print(\"----------Deluxcar feature function called----------\")\n",
    "        print(\"Delux car features\")\n",
    "\n",
    "    def info(self,cname):\n",
    "        '''car info method'''\n",
    "        super().info(\"maruti\") #to call the superclass\n",
    "        print(\"----------deluxcar info method is called here----------\")\n",
    "        self.cname = cname #object/instance variable\n",
    "        print(\"Its a Audi Car\", cname)\n",
    "\n",
    "\n",
    "if __name__ == '__main__':\n",
    "    Audicar= DeluxCar(\"audi car\")\n",
    "    Audicar.info(\"Audi\")"
   ]
  },
  {
   "cell_type": "code",
   "execution_count": 42,
   "metadata": {},
   "outputs": [
    {
     "name": "stdout",
     "output_type": "stream",
     "text": [
      "re.compile('[a-z]+', re.IGNORECASE)\n",
      "['welcome', 'to', 'regular', 'expression', 'pattern']\n",
      "['welcome', 'to', 'regular', 'expression', 'pattern']\n",
      "match found welcome\n",
      "match start 5\n",
      "match end 12\n",
      "match span (5, 12)\n"
     ]
    }
   ],
   "source": [
    "import re\n",
    "\n",
    "#help(re)\n",
    "\n",
    "pattern_object = re.compile('[a-z]+',re.IGNORECASE)\n",
    "\n",
    "print(pattern_object)\n",
    "\n",
    "data = \"3467 welcome to regular expression pattern\"\n",
    "\n",
    "#m = pattern_object.match(data) #match method only matches only the first spring\n",
    "\n",
    "m = pattern_object.search(data) #Returns a Match object if there is a match anywhere in the string\n",
    "\n",
    "m1 = pattern_object.findall(data) #Returns a list containing all matches\n",
    "print(m1)\n",
    "\n",
    "m2= re.findall('[a-z]+',data,re.IGNORECASE) #instead of using re.complile you can do this directly\n",
    "print(m2)\n",
    "\n",
    "if m:\n",
    "    print(\"match found\",m.group()) #print the match found using group()\n",
    "    print(\"match start\",m.start()) #print from where the match starts\n",
    "    print(\"match end\",m.end()) #print from where the match ends\n",
    "    print(\"match span\",m.span()) #print from where the match spans\n",
    "else:\n",
    "    print(\"match not found\")"
   ]
  },
  {
   "cell_type": "code",
   "execution_count": 84,
   "metadata": {},
   "outputs": [
    {
     "name": "stdout",
     "output_type": "stream",
     "text": [
      "['9999999999', '8999999999', '8999999978']\n",
      "['ICIC7787', 'BCDE1234', 'HDFC7787']\n",
      "['ICIC7787', 'HDFC7787']\n",
      "['ABCDE1234F']\n",
      "['nairdivi@gmail.com', 'nair.divi@gmail.com']\n",
      "['nairdivi@gmail.com', 'nair.divi@gmail.com']\n",
      "['100.10.127.10']\n"
     ]
    }
   ],
   "source": [
    "raw_data = '''name is divya and email is nairdivi@gmail.com\n",
    "Mobile number is 9999999999 and address is bangalore with email nair.divi@gmail.com and account number is 12345678 \n",
    "and ifsc code is ICIC7787 and Pan number is ABCDE1234F and another mobile number is 8999999999 and address is Pune\n",
    "and another mobile number is 8999999978 and address is Pune HDFC7787 100.10.127.10'''\n",
    "\n",
    "with open('myper.txt','w') as file:\n",
    "    file.write(raw_data)  #write data to file\n",
    "\n",
    "with open('myper.txt','r') as file:\n",
    "    data = file.read()  #read data to file\n",
    "    '''the \"r\" in the beginning is making sure that the string is being treated as a \"raw string\"'''\n",
    "    mobile_data = re.findall(r'\\d{10}',data) #search 10 digits\n",
    "    print(mobile_data)\n",
    "    \n",
    "    '''#here it is printing ifsc as well as pannumber by truncationg ABCDE1234F as BCDE1234'''\n",
    "    ifsc_code = re.findall(r'[A-Z]{4}[0-9]{4}',data) \n",
    "    print(ifsc_code)\n",
    "\n",
    "    '''#here \\b is used as boundary character and Returns a match where the specified characters are at the beginning or at the end of a word'''\n",
    "    ifsc_code = re.findall(r'\\b[A-Z]{4}[0-9]{4}\\b',data) \n",
    "    print(ifsc_code) \n",
    "\n",
    "    pan_number = re.findall(r'[A-Z]{5}[0-9]{4}[A-Z]{1}',data)\n",
    "    print(pan_number)\n",
    "\n",
    "    email_data = re.findall(r'\\b[a-zA-Z0-9.*%±]+@[a-zA-Z0-9.-]+\\.[a-zA-Z]{2,}\\b',data)\n",
    "    print(email_data)\n",
    "\n",
    "    '''\\w : Returns a match where the string contains any word characters (characters from a to Z, digits from 0-9, and the underscore _ character)'''\n",
    "    email_data = re.findall(r'\\b[\\w.*%±]+@[\\w.-]+\\.[\\w]{2,}\\b',data) \n",
    "    print(email_data)\n",
    "\n",
    "    '''ip address : ['100.10.127.10']'''\n",
    "    ip_address = re.findall(r'\\d{0,3}\\.\\d{0,3}\\.\\d{0,3}\\.\\d{0,3}',data)\n",
    "    print(ip_address)\n"
   ]
  },
  {
   "cell_type": "code",
   "execution_count": 78,
   "metadata": {},
   "outputs": [],
   "source": [
    "#!pip install --proxy http://gateway.schneider.zscaler.net/ pandas"
   ]
  },
  {
   "cell_type": "code",
   "execution_count": 99,
   "metadata": {},
   "outputs": [
    {
     "name": "stdout",
     "output_type": "stream",
     "text": [
      "0    9999999999\n",
      "1    8999999999\n",
      "2    8999999978\n",
      "Name: Mobile Number, dtype: object\n",
      "{'s': '9999999999', 'v': '8999999999', 'd': '8999999978'}\n",
      "dict_keys(['s', 'v', 'd'])\n",
      "dict_values(['9999999999', '8999999999', '8999999978'])\n",
      "s    9999999999\n",
      "v    8999999999\n",
      "d    8999999978\n",
      "dtype: object\n",
      "dict_items([('s', '9999999999'), ('v', '8999999999'), ('d', '8999999978')])\n",
      "  Name Mobile Number\n",
      "0    s    9999999999\n",
      "1    v    8999999999\n",
      "2    d    8999999978\n",
      "_________________________________________________________________________________\n",
      "0    s\n",
      "1    v\n",
      "2    d\n",
      "Name: Name, dtype: object\n",
      "0    9999999999\n",
      "1    8999999999\n",
      "2    8999999978\n",
      "Name: Mobile Number, dtype: object\n",
      "(3, 2)\n",
      "2\n",
      "__________________________data from csv_____________________________________________\n",
      "  Name  Mobile Number\n",
      "0    s     9999999999\n",
      "1    v     8999999999\n",
      "2    d     8999999978\n"
     ]
    }
   ],
   "source": [
    "import pandas as pd\n",
    "\n",
    "mobile_series = pd.Series(mobile_data,name='Mobile Number')\n",
    "\n",
    "print(mobile_series)\n",
    "\n",
    "mobile_dict = {}\n",
    "\n",
    "mobile_dict['s'] = mobile_data[0]\n",
    "mobile_dict['v'] = mobile_data[1]\n",
    "mobile_dict['d'] = mobile_data[2]\n",
    "\n",
    "print(mobile_dict)\n",
    "print(mobile_dict.keys())\n",
    "print(mobile_dict.values())\n",
    "\n",
    "'''A Pandas Series is like a column in a table.\n",
    "It is a one-dimensional array holding data of any type.'''\n",
    "\n",
    "mobile_series1= pd.Series(mobile_dict)\n",
    "\n",
    "print(mobile_series1)\n",
    "\n",
    "print(mobile_dict.items())\n",
    "\n",
    "'''A Pandas DataFrame is a 2 dimensional data structure, like a 2 dimensional array, or a table with rows and columns.'''\n",
    "\n",
    "df = pd.DataFrame(mobile_dict.items(),columns=['Name','Mobile Number'])\n",
    "print(df)\n",
    "\n",
    "print(\"_________________________________________________________________________________\")\n",
    "\n",
    "print(df['Name'])\n",
    "print(df['Mobile Number'])\n",
    "\n",
    "print(df.shape)\n",
    "print(df.ndim)\n",
    "\n",
    "df.to_csv('mobile.csv',index=False) #write data to csv file\n",
    "\n",
    "print(\"__________________________data from csv_____________________________________________\")\n",
    "\n",
    "csv_data= pd.read_csv('mobile.csv') #read data from csv file\n",
    "\n",
    "print(csv_data)\n",
    "\n"
   ]
  },
  {
   "cell_type": "markdown",
   "metadata": {},
   "source": [
    "Github:\n",
    "\n",
    "1. Repository(Repo)- project folder. contains all files,history and branches.\n",
    "2. commit - a saved change or snapshot in repo. \n",
    "3. branch - its the poiner to a specific commit in the repo. default branch is called main or master.\n",
    "4. Merge - combining changes from different branches into one\n",
    "5. Pull - download the latest changes from a remote repo and integrating them into your local repo in your system.\n",
    "6. Push - upload your local repo changes to remote repo\n",
    "7. Clone - Creating a copy of remote repo on your local machine.\n",
    "8. remote - a version of repo in some other platfrom like gitlab.\n",
    " Undo mistakes - Revert,reset and checkout\n"
   ]
  }
 ],
 "metadata": {
  "kernelspec": {
   "display_name": "Python 3",
   "language": "python",
   "name": "python3"
  },
  "language_info": {
   "codemirror_mode": {
    "name": "ipython",
    "version": 3
   },
   "file_extension": ".py",
   "mimetype": "text/x-python",
   "name": "python",
   "nbconvert_exporter": "python",
   "pygments_lexer": "ipython3",
   "version": "3.11.6"
  }
 },
 "nbformat": 4,
 "nbformat_minor": 2
}
